{
 "cells": [
  {
   "cell_type": "code",
   "execution_count": 1,
   "id": "922b224b-f433-4bff-a9cd-09e3c1d5b829",
   "metadata": {},
   "outputs": [],
   "source": [
    "import functools"
   ]
  },
  {
   "cell_type": "code",
   "execution_count": 2,
   "id": "94fadc28-d822-409d-924b-af99cbc3852b",
   "metadata": {},
   "outputs": [],
   "source": [
    "def fib(n):\n",
    "    if n == 0:\n",
    "        return 0\n",
    "    elif n == 1:\n",
    "        return 1\n",
    "    else:\n",
    "        return fib(n-1) + fib(n-2)"
   ]
  },
  {
   "cell_type": "code",
   "execution_count": 3,
   "id": "1e48b818-9bc1-44e7-94aa-68ab3bfadcaa",
   "metadata": {},
   "outputs": [
    {
     "name": "stdout",
     "output_type": "stream",
     "text": [
      "CPU times: user 22.1 s, sys: 83.6 ms, total: 22.2 s\n",
      "Wall time: 22.2 s\n"
     ]
    },
    {
     "data": {
      "text/plain": [
       "102334155"
      ]
     },
     "execution_count": 3,
     "metadata": {},
     "output_type": "execute_result"
    }
   ],
   "source": [
    "%time fib(40)"
   ]
  },
  {
   "cell_type": "code",
   "execution_count": 4,
   "id": "2abf6e06-331a-4da8-a7d7-3ace12d3a8b1",
   "metadata": {},
   "outputs": [],
   "source": [
    "def memoize(fn):\n",
    "    results = {}\n",
    "    @functools.wraps(fn)\n",
    "    def wrapped(n):\n",
    "        if n in results:\n",
    "            return results[n]\n",
    "        else:\n",
    "            out = fn(n)\n",
    "            results[n] = out\n",
    "            return out\n",
    "    return wrapped"
   ]
  },
  {
   "cell_type": "code",
   "execution_count": 5,
   "id": "38498850-4c8e-475d-92ab-1c15c2d78eb0",
   "metadata": {},
   "outputs": [],
   "source": [
    "@memoize\n",
    "def memo_fib(n):\n",
    "    if n == 0:\n",
    "        return 0\n",
    "    elif n == 1:\n",
    "        return 1\n",
    "    else:\n",
    "        return memo_fib(n-1) + memo_fib(n-2)"
   ]
  },
  {
   "cell_type": "code",
   "execution_count": 6,
   "id": "8e61a1da-2097-4f2a-8ac7-eb21a9ecd833",
   "metadata": {},
   "outputs": [
    {
     "name": "stdout",
     "output_type": "stream",
     "text": [
      "CPU times: user 16 µs, sys: 7 µs, total: 23 µs\n",
      "Wall time: 25 µs\n"
     ]
    },
    {
     "data": {
      "text/plain": [
       "102334155"
      ]
     },
     "execution_count": 6,
     "metadata": {},
     "output_type": "execute_result"
    }
   ],
   "source": [
    "%time memo_fib(40)"
   ]
  }
 ],
 "metadata": {
  "kernelspec": {
   "display_name": "Python 3 (ipykernel)",
   "language": "python",
   "name": "python3"
  },
  "language_info": {
   "codemirror_mode": {
    "name": "ipython",
    "version": 3
   },
   "file_extension": ".py",
   "mimetype": "text/x-python",
   "name": "python",
   "nbconvert_exporter": "python",
   "pygments_lexer": "ipython3",
   "version": "3.8.9"
  }
 },
 "nbformat": 4,
 "nbformat_minor": 5
}
