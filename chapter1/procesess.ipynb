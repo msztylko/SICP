{
 "cells": [
  {
   "cell_type": "markdown",
   "id": "fe3b5d4c-206a-4f1f-a05c-2a4f4135318e",
   "metadata": {},
   "source": [
    "# recursive procedure, recursive process"
   ]
  },
  {
   "cell_type": "code",
   "execution_count": 1,
   "id": "46e2a901-ab4f-4d2e-99c7-c9a06f07066a",
   "metadata": {},
   "outputs": [],
   "source": [
    "def factorial1(n):\n",
    "    if n == 0:\n",
    "        return 1\n",
    "    else:\n",
    "        return n * factorial1(n-1)"
   ]
  },
  {
   "cell_type": "code",
   "execution_count": 2,
   "id": "11a2a7dc-2ac4-46d7-9c54-e20b917c8e04",
   "metadata": {},
   "outputs": [
    {
     "name": "stdout",
     "output_type": "stream",
     "text": [
      "1.65 µs ± 1.2 ns per loop (mean ± std. dev. of 7 runs, 1,000,000 loops each)\n"
     ]
    }
   ],
   "source": [
    "%timeit factorial1(20)"
   ]
  },
  {
   "cell_type": "markdown",
   "id": "65573123-c196-465d-b6de-57a38d58dec0",
   "metadata": {},
   "source": [
    "# recursive procedure, iterative process"
   ]
  },
  {
   "cell_type": "code",
   "execution_count": 3,
   "id": "ce8b2884-4da0-47fb-8b62-52281d877fda",
   "metadata": {},
   "outputs": [],
   "source": [
    "def factorial2(n):\n",
    "    def factorial(product, counter, max_count):\n",
    "        if counter > max_count:\n",
    "            return product\n",
    "        else:\n",
    "            return factorial(product * counter, counter + 1, max_count)\n",
    "            \n",
    "    return factorial(1, 1, n)    "
   ]
  },
  {
   "cell_type": "code",
   "execution_count": 4,
   "id": "c28793fc-a84a-4ad0-b260-e5f875e56c57",
   "metadata": {},
   "outputs": [
    {
     "name": "stdout",
     "output_type": "stream",
     "text": [
      "2.32 µs ± 4.52 ns per loop (mean ± std. dev. of 7 runs, 100,000 loops each)\n"
     ]
    }
   ],
   "source": [
    "%timeit factorial2(20)"
   ]
  },
  {
   "cell_type": "markdown",
   "id": "b7132c1a-9f50-49fe-8710-70ec9aef911b",
   "metadata": {},
   "source": [
    "# iterative procedure, iterative process"
   ]
  },
  {
   "cell_type": "code",
   "execution_count": 5,
   "id": "9007f7e5-bfee-4954-93b7-5c8b8581f6d5",
   "metadata": {},
   "outputs": [],
   "source": [
    "def factorial3(n):\n",
    "    product = 1\n",
    "    counter = 1\n",
    "    max_count = n\n",
    "    \n",
    "    while counter <= max_count:\n",
    "        product *= counter\n",
    "        counter += 1\n",
    "    \n",
    "    return product"
   ]
  },
  {
   "cell_type": "code",
   "execution_count": 6,
   "id": "588d88b8-732e-4f24-9fa1-e006712e4367",
   "metadata": {},
   "outputs": [
    {
     "name": "stdout",
     "output_type": "stream",
     "text": [
      "947 ns ± 7.74 ns per loop (mean ± std. dev. of 7 runs, 1,000,000 loops each)\n"
     ]
    }
   ],
   "source": [
    "%timeit factorial3(20)"
   ]
  }
 ],
 "metadata": {
  "kernelspec": {
   "display_name": "Python 3 (ipykernel)",
   "language": "python",
   "name": "python3"
  },
  "language_info": {
   "codemirror_mode": {
    "name": "ipython",
    "version": 3
   },
   "file_extension": ".py",
   "mimetype": "text/x-python",
   "name": "python",
   "nbconvert_exporter": "python",
   "pygments_lexer": "ipython3",
   "version": "3.8.9"
  }
 },
 "nbformat": 4,
 "nbformat_minor": 5
}
